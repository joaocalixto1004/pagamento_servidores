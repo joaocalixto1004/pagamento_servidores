{
 "cells": [
  {
   "cell_type": "markdown",
   "id": "1a0a637b-0c74-4280-a516-79a3578ccd25",
   "metadata": {},
   "source": [
    "# Local Outlier factor (LOF)"
   ]
  },
  {
   "cell_type": "code",
   "execution_count": 7,
   "id": "be296fc2-492b-435e-b1b6-e7951a0d6627",
   "metadata": {},
   "outputs": [],
   "source": [
    "import sys\n",
    "sys.path.append(\"C:/Users/joaoc/Documents/MT/pagamento_servidores/src\")\n",
    "import process_servants as ps\n",
    "from sklearn.neighbors import LocalOutlierFactor\n",
    "import pandas as pd\n",
    "from janitor import clean_names"
   ]
  },
  {
   "cell_type": "markdown",
   "id": "0b68f70d-ac28-4cf5-980a-30f1bb3a1e5b",
   "metadata": {},
   "source": [
    "## Função para pre-processamento dos dados"
   ]
  },
  {
   "cell_type": "code",
   "execution_count": null,
   "id": "2ad52570-0f4f-4644-bcf9-4adb07f1e6a3",
   "metadata": {},
   "outputs": [],
   "source": [
    "def process_registration_data_rendim(file_path, reference_date_str):\n",
    "    \"\"\"Process registration data from Excel file\"\"\"\n",
    "    \n",
    "    df = (\n",
    "        pd.read_excel(file_path)\n",
    "        .pipe(clean_names)\n",
    "        .pipe(ps.convert_rendim_to_numeric)\n",
    "        .pipe(ps.process_month_column)\n",
    "        )    \n",
    "\n",
    "    #Selecionar apesas as colunas necessárias para o modelo\n",
    "    df_rendim = df[['cpf_servidor', 'mes', 'rendim']]\n",
    "    #Se tiver valores com o CPF duplicado para o mesmo mês, somar os valores\n",
    "    df_rendim = df_rendim.groupby(['cpf_servidor', 'mes'])['rendim'].sum().reset_index()\n",
    "\n",
    "    return df_rendim"
   ]
  },
  {
   "cell_type": "markdown",
   "id": "d35e0aa5-61e1-48b5-a6d5-b4e08cd2f7d7",
   "metadata": {
    "editable": true,
    "slideshow": {
     "slide_type": ""
    },
    "tags": []
   },
   "source": [
    "## Função para pre-processamento dos dados\n",
    "Utiliza-se funções importadas do arquivo process_servants.py, no qual foram pré-definidas algumas funções para o pré-processamento dos dados"
   ]
  },
  {
   "cell_type": "code",
   "execution_count": 5,
   "id": "7802504f-e84a-432a-9df6-647b445375cd",
   "metadata": {
    "editable": true,
    "slideshow": {
     "slide_type": ""
    },
    "tags": []
   },
   "outputs": [],
   "source": [
    "def process_registration_data_rendim(file_path, reference_date_str):\n",
    "    \"\"\"Process registration data from Excel file\"\"\"\n",
    "    \n",
    "    df = (\n",
    "        pd.read_excel(file_path)\n",
    "        .pipe(clean_names)\n",
    "        .pipe(ps.convert_rendim_to_numeric)\n",
    "        .pipe(ps.process_month_column)\n",
    "        )    \n",
    "\n",
    "    #Selecionar apesas as colunas necessárias para o modelo\n",
    "    df_rendim = df[['cpf_servidor', 'mes', 'rendim']]\n",
    "    #Se tiver valores com o CPF duplicado para o mesmo mês, somar os valores\n",
    "    df_rendim = df_rendim.groupby(['cpf_servidor', 'mes'])['rendim'].sum().reset_index()\n",
    "\n",
    "    return df_rendim"
   ]
  },
  {
   "cell_type": "markdown",
   "id": "28430b9d-f4fb-468e-870a-3a3ef030a384",
   "metadata": {},
   "source": [
    "## Função para Leitura dos Dados"
   ]
  },
  {
   "cell_type": "code",
   "execution_count": 7,
   "id": "7a023067-e384-447e-91bb-469918d744ff",
   "metadata": {},
   "outputs": [],
   "source": [
    "def processed_data(brute_data_file_path, reference_date, file_name): \n",
    "\n",
    "    registration_df = process_registration_data_rendim(brute_data_file_path, reference_date)\n",
    "    \n",
    "    processed_path  = \"C:/Users/joaoc/Documents/MT/pagamento_servidores/data/processed/\" + file_name + \".xlsx\"\n",
    "    print(\"Processed data shapes:\")\n",
    "    print(f\"Registration data: {registration_df.shape}\")\n",
    "    \n",
    "    #registration_df.to_excel(processed_path, index=False)\n",
    "    \n",
    "    return registration_df"
   ]
  },
  {
   "attachments": {},
   "cell_type": "markdown",
   "id": "8cfd5f89-b5c1-46c3-8aaf-c49ba97f7f86",
   "metadata": {
    "editable": true,
    "slideshow": {
     "slide_type": ""
    },
    "tags": []
   },
   "source": [
    "Importação da Base de Dados"
   ]
  },
  {
   "cell_type": "code",
   "execution_count": 9,
   "id": "5dc54d95-b2fa-42be-afec-26578ddf39d8",
   "metadata": {},
   "outputs": [],
   "source": [
    "reference_date = '2022-04-01'\n",
    "brute_file_path = 'C:/Users/joaoc/Documents/MT/pagamento_servidores/data/raw/servidores_mes.xlsx'"
   ]
  },
  {
   "cell_type": "markdown",
   "id": "9f9c8622-6e3f-42e0-9b82-6d01a946f597",
   "metadata": {},
   "source": [
    "Limpeza e Pre-processamento dos dados para tentar identificar o caso a seguir como um Anomaly Detection\n",
    "![image.png](attachment:1cf54f27-e734-4093-a92f-766002dc7ed0.png)"
   ]
  },
  {
   "cell_type": "code",
   "execution_count": 11,
   "id": "d50127d0-b21a-4cee-a203-144dfd383b8b",
   "metadata": {
    "scrolled": true
   },
   "outputs": [
    {
     "name": "stdout",
     "output_type": "stream",
     "text": [
      "Processed data shapes:\n",
      "Registration data: (41598, 3)\n"
     ]
    }
   ],
   "source": [
    "registration_df = processed_data(brute_file_path, reference_date, \"dados_12_meses_cadastro_e_std\")"
   ]
  },
  {
   "cell_type": "code",
   "execution_count": null,
   "id": "dda4c424-4ded-4bf8-b67b-5d96b465d8f5",
   "metadata": {},
   "outputs": [],
   "source": []
  }
 ],
 "metadata": {
  "kernelspec": {
   "display_name": "Python [conda env:base] *",
   "language": "python",
   "name": "conda-base-py"
  },
  "language_info": {
   "codemirror_mode": {
    "name": "ipython",
    "version": 3
   },
   "file_extension": ".py",
   "mimetype": "text/x-python",
   "name": "python",
   "nbconvert_exporter": "python",
   "pygments_lexer": "ipython3",
   "version": "3.12.3"
  }
 },
 "nbformat": 4,
 "nbformat_minor": 5
}
