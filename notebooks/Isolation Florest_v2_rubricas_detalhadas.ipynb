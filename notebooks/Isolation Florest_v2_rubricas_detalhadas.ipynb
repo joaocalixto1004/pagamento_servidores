{
 "cells": [
  {
   "cell_type": "markdown",
   "id": "e7879772-bb68-4e4f-8d88-71c96c910429",
   "metadata": {},
   "source": [
    "# ISOLATION FOREST FOR ANOMALY DETECTION"
   ]
  },
  {
   "cell_type": "markdown",
   "id": "259e102f-1a4d-4664-8114-24b18bef5e74",
   "metadata": {},
   "source": [
    "Algoritmos de Isolation Forest para detecção de Anolamia na Folha de Pagamento\n",
    "Importação do Modulo de Pré-processamento"
   ]
  },
  {
   "cell_type": "code",
   "execution_count": 4,
   "id": "1114e60d-045a-4be3-94c7-4841128f341d",
   "metadata": {
    "editable": true,
    "jp-MarkdownHeadingCollapsed": true,
    "slideshow": {
     "slide_type": ""
    },
    "tags": []
   },
   "outputs": [],
   "source": [
    "import sys\n",
    "sys.path.append(\"C:/Users/joaoc/Documents/MT/pagamento_servidores/src\")\n",
    "import process_servants as ps\n",
    "from sklearn.preprocessing import StandardScaler\n",
    "from sklearn.ensemble import IsolationForest\n",
    "import matplotlib.pyplot as plt\n",
    "from statsmodels.tsa.arima.model import ARIMA\n",
    "from sklearn.metrics import mean_absolute_error\n",
    "import pandas as pd\n",
    "from janitor import clean_names"
   ]
  },
  {
   "cell_type": "markdown",
   "id": "e9f6a131-084c-4a12-804f-30d4d4b670ba",
   "metadata": {
    "editable": true,
    "slideshow": {
     "slide_type": ""
    },
    "tags": []
   },
   "source": [
    "## Função para pre-processamento dos dados\n",
    "Utiliza-se funções importadas do arquivo process_servants.py, no qual foram pré-definidas algumas funções para o pré-processamento dos dados"
   ]
  },
  {
   "cell_type": "code",
   "execution_count": 6,
   "id": "1eca48ae-bf3c-4dc7-a625-6733950f24ad",
   "metadata": {
    "editable": true,
    "slideshow": {
     "slide_type": ""
    },
    "tags": []
   },
   "outputs": [],
   "source": [
    "def process_registration_data_rendim(file_path):\n",
    "    \"\"\"Process registration data from Excel file\"\"\"\n",
    "    \n",
    "    df = (\n",
    "        pd.read_excel(file_path)\n",
    "        .pipe(clean_names)\n",
    "        .pipe(ps.convert_rendim_to_numeric)\n",
    "        .pipe(ps.process_month_column)\n",
    "        .pipe(ps.padronizar_ferias)\n",
    "        .pipe(ps.padronizar_decimo_terceiro)\n",
    "        )\n",
    "    df = df.groupby(['cpf_servidor', 'mes', 'rubrica'])['rendim'].sum().reset_index()\n",
    "    df = df.pivot(index = ['cpf_servidor', 'mes'], columns='rubrica', values='rendim').reset_index()\n",
    "\n",
    "    return df"
   ]
  },
  {
   "cell_type": "markdown",
   "id": "4b22a519-627a-4268-947c-cf812e33c55c",
   "metadata": {},
   "source": [
    "## Função para Leitura dos Dados"
   ]
  },
  {
   "cell_type": "code",
   "execution_count": 8,
   "id": "102b3cb8-4def-4f69-a373-d2c2715f5e97",
   "metadata": {},
   "outputs": [],
   "source": [
    "def processed_data(brute_data_file_path, file_name): \n",
    "\n",
    "    registration_df = process_registration_data_rendim(brute_data_file_path)\n",
    "    \n",
    "    processed_path  = \"C:/Users/joaoc/Documents/MT/pagamento_servidores/data/processed/\" + file_name + \".xlsx\"\n",
    "    print(\"Processed data shapes:\")\n",
    "    print(f\"Registration data: {registration_df.shape}\")\n",
    "    \n",
    "    #registration_df.to_excel(processed_path, index=False)\n",
    "    \n",
    "    return registration_df"
   ]
  },
  {
   "attachments": {},
   "cell_type": "markdown",
   "id": "ee0170ce-85a1-4fa3-adbc-8f8890843252",
   "metadata": {
    "editable": true,
    "slideshow": {
     "slide_type": ""
    },
    "tags": []
   },
   "source": [
    "Importação da Base de Dados"
   ]
  },
  {
   "cell_type": "code",
   "execution_count": 10,
   "id": "d6bd02eb-56ad-4ac0-a407-5a3c3ce43ace",
   "metadata": {},
   "outputs": [],
   "source": [
    "brute_file_path = 'C:/Users/joaoc/Documents/MT/pagamento_servidores/data/raw/servidores_mes_rubricas.xlsx'"
   ]
  },
  {
   "cell_type": "markdown",
   "id": "e5d0b1b4-f7c2-4420-aec9-84bc30df3e9b",
   "metadata": {},
   "source": [
    "Limpeza e Pre-processamento dos dados para tentar identificar o caso a seguir como um Anomaly Detection\n",
    "![image.png](attachment:1cf54f27-e734-4093-a92f-766002dc7ed0.png)"
   ]
  },
  {
   "cell_type": "code",
   "execution_count": 12,
   "id": "d7dcbdb9-c020-4f6d-9465-84d2455212d9",
   "metadata": {},
   "outputs": [
    {
     "name": "stdout",
     "output_type": "stream",
     "text": [
      "Processed data shapes:\n",
      "Registration data: (151, 22)\n"
     ]
    },
    {
     "name": "stderr",
     "output_type": "stream",
     "text": [
      "C:\\Users\\joaoc\\anaconda3\\Lib\\site-packages\\openpyxl\\styles\\stylesheet.py:237: UserWarning: Workbook contains no default style, apply openpyxl's default\n",
      "  warn(\"Workbook contains no default style, apply openpyxl's default\")\n"
     ]
    }
   ],
   "source": [
    "registration_df = processed_data(brute_file_path, \"dados_12_meses_cadastro_e_std\")"
   ]
  },
  {
   "cell_type": "markdown",
   "id": "f4f012da-fb0a-4126-ae74-3aaf4c481a50",
   "metadata": {},
   "source": [
    "## Isolation Forest - Rubricas Detalhadas"
   ]
  },
  {
   "cell_type": "code",
   "execution_count": 14,
   "id": "cf490214-1f59-49a2-93ae-4103b9859e04",
   "metadata": {},
   "outputs": [],
   "source": [
    "resultado_rubricas = []\n",
    "\n",
    "dados = registration_df[registration_df['cpf_servidor'] == 35042770763]\n",
    "dados = dados.fillna(0)\n",
    "series = dados.drop('cpf_servidor', axis=1)\n",
    "series = series.loc[:, (series != 0).any(axis=0)]\n",
    "        \n"
   ]
  },
  {
   "cell_type": "code",
   "execution_count": 15,
   "id": "aef2e8da-5f72-4409-ae23-cabdb17e39a1",
   "metadata": {},
   "outputs": [],
   "source": [
    "series = series.set_index('mes')"
   ]
  },
  {
   "cell_type": "code",
   "execution_count": 16,
   "id": "e6ea4ddf-6b2a-430f-be11-c546c238b7db",
   "metadata": {},
   "outputs": [],
   "source": [
    "resultado_rubricas = []\n",
    "window = series\n",
    "while len(window) > 10:\n",
    "    # Define contaminação de forma mais eficiente\n",
    "    contamination = 1/len(series) if len(series) < 20 else 1/20\n",
    "    \n",
    "    # Cria e ajusta o modelo\n",
    "    iso_forest = IsolationForest(\n",
    "        contamination=contamination,\n",
    "        random_state=42,\n",
    "        n_jobs=-1  # Paraleliza o processamento\n",
    "    )\n",
    "    \n",
    "    # Faz a predição\n",
    "    anomalias = iso_forest.fit_predict(window)\n",
    "    \n",
    "    # Verifica anomalias de forma vetorizada\n",
    "    if anomalias[-1] == -1 and window.loc[window.index[-1], 'DECIMO TERCEIRO'] == 0: \n",
    "        resultado_rubricas.append({\n",
    "            \"cpf_servidor\": dados['cpf_servidor'].iloc[0],\n",
    "            \"mes\": window.index[-1]\n",
    "        })\n",
    "        \n",
    "    # Exclui o ultimo mes, para verificar anomalia nos meses anteriores\n",
    "    window = window.iloc[:-1, :]"
   ]
  },
  {
   "cell_type": "code",
   "execution_count": 46,
   "id": "07479cff-de76-41ae-aaf7-93ec9f0ad09a",
   "metadata": {},
   "outputs": [
    {
     "data": {
      "text/plain": [
       "[{'cpf_servidor': 35042770763, 'mes': Timestamp('2023-04-01 00:00:00')},\n",
       " {'cpf_servidor': 35042770763, 'mes': Timestamp('2022-04-01 00:00:00')},\n",
       " {'cpf_servidor': 35042770763, 'mes': Timestamp('2022-03-01 00:00:00')}]"
      ]
     },
     "execution_count": 46,
     "metadata": {},
     "output_type": "execute_result"
    }
   ],
   "source": [
    "resultado_rubricas"
   ]
  },
  {
   "cell_type": "markdown",
   "id": "0f0fc1ec-c8a1-466d-993f-cda18b8a0a45",
   "metadata": {},
   "source": [
    "## Isolation Forest - Remuneracao Total"
   ]
  },
  {
   "cell_type": "code",
   "execution_count": 19,
   "id": "3f2281b4-7f26-4647-af57-6173d57ed3a3",
   "metadata": {},
   "outputs": [],
   "source": [
    "resultado_remun = []\n",
    "\n",
    "series_remun = dados.drop('cpf_servidor', axis=1)\n",
    "series_remun = series_remun.loc[:, (series_remun != 0).any(axis=0)]\n",
    "series_remun['redim'] = series_remun.iloc[:, 1:].sum(axis=1)\n",
    "series_remun = series_remun.set_index('mes')\n",
    "series_remun = series_remun.iloc[:, -1:]\n"
   ]
  },
  {
   "cell_type": "code",
   "execution_count": 20,
   "id": "96e324bd-1847-4072-b67c-5097753d8077",
   "metadata": {},
   "outputs": [],
   "source": [
    "window = series_remun\n",
    "while len(window) > 10:\n",
    "    # Define contaminação de forma mais eficiente\n",
    "    contamination = 1/len(series) if len(series) < 20 else 1/20\n",
    "    \n",
    "    # Cria e ajusta o modelo\n",
    "    iso_forest = IsolationForest(\n",
    "        contamination=contamination,\n",
    "        random_state=42,\n",
    "        n_jobs=-1  # Paraleliza o processamento\n",
    "    )\n",
    "    \n",
    "    # Faz a predição\n",
    "    anomalias = iso_forest.fit_predict(window)\n",
    "    \n",
    "    # Verifica anomalias de forma vetorizada\n",
    "    if anomalias[-1] == -1:  # Verifica apenas a última observação\n",
    "        resultado_remun.append({\n",
    "            \"cpf_servidor\": dados['cpf_servidor'].iloc[0],\n",
    "            \"mes\": window.index[-1]\n",
    "        })\n",
    "        \n",
    "    # Exclui o ultimo mes, para verificar anomalia nos meses anteriores\n",
    "    window = window.iloc[:-1, :]\n"
   ]
  },
  {
   "cell_type": "code",
   "execution_count": 21,
   "id": "259186fd-dd01-454d-8596-a918853af2c9",
   "metadata": {},
   "outputs": [
    {
     "data": {
      "text/plain": [
       "[{'cpf_servidor': 35042770763, 'mes': Timestamp('2023-06-01 00:00:00')},\n",
       " {'cpf_servidor': 35042770763, 'mes': Timestamp('2022-11-01 00:00:00')},\n",
       " {'cpf_servidor': 35042770763, 'mes': Timestamp('2022-06-01 00:00:00')},\n",
       " {'cpf_servidor': 35042770763, 'mes': Timestamp('2022-04-01 00:00:00')},\n",
       " {'cpf_servidor': 35042770763, 'mes': Timestamp('2022-03-01 00:00:00')}]"
      ]
     },
     "execution_count": 21,
     "metadata": {},
     "output_type": "execute_result"
    }
   ],
   "source": [
    "resultado_remun"
   ]
  }
 ],
 "metadata": {
  "kernelspec": {
   "display_name": "Python 3 (ipykernel)",
   "language": "python",
   "name": "python3"
  },
  "language_info": {
   "codemirror_mode": {
    "name": "ipython",
    "version": 3
   },
   "file_extension": ".py",
   "mimetype": "text/x-python",
   "name": "python",
   "nbconvert_exporter": "python",
   "pygments_lexer": "ipython3",
   "version": "3.12.3"
  }
 },
 "nbformat": 4,
 "nbformat_minor": 5
}
