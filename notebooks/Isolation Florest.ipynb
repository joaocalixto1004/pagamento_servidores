{
 "cells": [
  {
   "cell_type": "markdown",
   "id": "e7879772-bb68-4e4f-8d88-71c96c910429",
   "metadata": {},
   "source": [
    "# ISOLATION FOREST FOR ANOMALY DETECTION \n"
   ]
  },
  {
   "cell_type": "markdown",
   "id": "259e102f-1a4d-4664-8114-24b18bef5e74",
   "metadata": {},
   "source": [
    "Algoritmos de Isolation Florest para detecção de Anolamia na Folha de Pagamento"
   ]
  },
  {
   "cell_type": "markdown",
   "id": "39d7ca3f-dd1c-4c48-ac4a-c2eb70ee7528",
   "metadata": {},
   "source": [
    "import sys\n",
    "sys.path.append(\"C:/Users/joaoc/Documents/MT/pagamento_servidores/src\")\n",
    "\n",
    "# Agora você pode importar o módulo\n",
    "import isolation_florest as isf  # Verifique o nome do arquivo!"
   ]
  },
  {
   "attachments": {},
   "cell_type": "markdown",
   "id": "ee0170ce-85a1-4fa3-adbc-8f8890843252",
   "metadata": {},
   "source": [
    "Importação da Base de Dados"
   ]
  },
  {
   "cell_type": "code",
   "execution_count": 2,
   "id": "d6bd02eb-56ad-4ac0-a407-5a3c3ce43ace",
   "metadata": {},
   "outputs": [
    {
     "name": "stderr",
     "output_type": "stream",
     "text": [
      "C:\\Users\\joaoc\\anaconda3\\envs\\pagamentos_servidores\\lib\\site-packages\\openpyxl\\styles\\stylesheet.py:237: UserWarning: Workbook contains no default style, apply openpyxl's default\n",
      "  warn(\"Workbook contains no default style, apply openpyxl's default\")\n"
     ]
    },
    {
     "name": "stdout",
     "output_type": "stream",
     "text": [
      "Processed data shapes:\n",
      "Registration data: (2221, 18)\n"
     ]
    }
   ],
   "source": [
    "reference_date = '2022-04-01'\n",
    "brute_file_path = 'C:/Users/joaoc/Documents/MT/pagamento_servidores/data/raw/servidores_mes.xlsx'\n",
    "    \n",
    "registration_df = isf.processed_data(brute_file_path, reference_date, \"dados_12_meses_cadastro_e_std\", 'last_month')"
   ]
  },
  {
   "cell_type": "markdown",
   "id": "e5d0b1b4-f7c2-4420-aec9-84bc30df3e9b",
   "metadata": {},
   "source": [
    "Limpeza e Pre-processamento dos dados para tentar identificar o caso a seguir como um Outlier\n",
    "![image.png](attachment:1cf54f27-e734-4093-a92f-766002dc7ed0.png)"
   ]
  },
  {
   "cell_type": "code",
   "execution_count": null,
   "id": "d7dcbdb9-c020-4f6d-9465-84d2455212d9",
   "metadata": {},
   "outputs": [],
   "source": [
    "registration_df = isf.processed_data(brute_file_path, reference_date, \"dados_12_meses_cadastro_e_std\", 'last_month')"
   ]
  },
  {
   "cell_type": "markdown",
   "id": "69f611da-7c73-4a06-a96d-80cb35267137",
   "metadata": {},
   "source": [
    "Remoção de Outliers de Renda e Desvio Padrão de Renda"
   ]
  },
  {
   "cell_type": "code",
   "execution_count": null,
   "id": "431191da-877e-48ba-9cad-7e1b3a34d592",
   "metadata": {},
   "outputs": [],
   "source": [
    "registration_df = processed_data(brute_file_path, reference_date, \"dados_12_meses_cadastro_e_std\", 'last_month')\n",
    "    registration_df = registration_df[registration_df[\"rendim\"] < 4]"
   ]
  },
  {
   "cell_type": "markdown",
   "id": "5cdabc22-52c6-40a3-a2cc-2af8c01873f7",
   "metadata": {},
   "source": []
  }
 ],
 "metadata": {
  "kernelspec": {
   "display_name": "Python 3 (ipykernel)",
   "language": "python",
   "name": "python3"
  },
  "language_info": {
   "codemirror_mode": {
    "name": "ipython",
    "version": 3
   },
   "file_extension": ".py",
   "mimetype": "text/x-python",
   "name": "python",
   "nbconvert_exporter": "python",
   "pygments_lexer": "ipython3",
   "version": "3.9.21"
  }
 },
 "nbformat": 4,
 "nbformat_minor": 5
}
