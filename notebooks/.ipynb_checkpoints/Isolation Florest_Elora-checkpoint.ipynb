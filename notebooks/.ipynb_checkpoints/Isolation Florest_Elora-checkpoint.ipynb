{
 "cells": [
  {
   "cell_type": "markdown",
   "id": "e7879772-bb68-4e4f-8d88-71c96c910429",
   "metadata": {},
   "source": [
    "# ISOLATION FOREST FOR ANOMALY DETECTION \n"
   ]
  },
  {
   "cell_type": "markdown",
   "id": "259e102f-1a4d-4664-8114-24b18bef5e74",
   "metadata": {},
   "source": [
    "Algoritmos de Isolation Forest para detecção de Anolamia na Folha de Pagamento\n",
    "Importação do Modulo de Pré-processamento"
   ]
  },
  {
   "cell_type": "code",
   "execution_count": 3,
   "id": "1114e60d-045a-4be3-94c7-4841128f341d",
   "metadata": {
    "editable": true,
    "jp-MarkdownHeadingCollapsed": true,
    "slideshow": {
     "slide_type": ""
    },
    "tags": []
   },
   "outputs": [],
   "source": [
    "import sys\n",
    "sys.path.append(\"C:/Users/joaoc/Documents/MT/pagamento_servidores/src\")\n",
    "import process_servants as ps\n",
    "from sklearn.preprocessing import StandardScaler\n",
    "from sklearn.ensemble import IsolationForest\n",
    "import pandas as pd\n",
    "from janitor import clean_names"
   ]
  },
  {
   "cell_type": "markdown",
   "id": "e9f6a131-084c-4a12-804f-30d4d4b670ba",
   "metadata": {
    "editable": true,
    "slideshow": {
     "slide_type": ""
    },
    "tags": []
   },
   "source": [
    "## Função para pre-processamento dos dados\n",
    "Utiliza-se funções importadas do arquivo process_servants.py, no qual foram pré-definidas algumas funções para o pré-processamento dos dados"
   ]
  },
  {
   "cell_type": "code",
   "execution_count": 49,
   "id": "1eca48ae-bf3c-4dc7-a625-6733950f24ad",
   "metadata": {
    "editable": true,
    "slideshow": {
     "slide_type": ""
    },
    "tags": []
   },
   "outputs": [],
   "source": [
    "def process_registration_data_rendim(file_path, reference_date_str):\n",
    "    \"\"\"Process registration data from Excel file\"\"\"\n",
    "    \n",
    "    df = (\n",
    "        pd.read_excel(file_path)\n",
    "        .pipe(clean_names)\n",
    "        .pipe(ps.convert_rendim_to_numeric)\n",
    "        .pipe(ps.process_month_column)\n",
    "        )    \n",
    "\n",
    "    #Selecionar apesas as colunas necessárias para o modelo\n",
    "    df_rendim = df[['cpf_servidor', 'mes', 'rendim']]\n",
    "    #Se tiver valores com o CPF duplicado para o mesmo mês, somar os valores\n",
    "    df_rendim = df_rendim.groupby(['cpf_servidor', 'mes'])['rendim'].sum().reset_index()\n",
    "\n",
    "    return df_rendim"
   ]
  },
  {
   "cell_type": "markdown",
   "id": "4b22a519-627a-4268-947c-cf812e33c55c",
   "metadata": {},
   "source": [
    "## Função para Leitura dos Dados"
   ]
  },
  {
   "cell_type": "code",
   "execution_count": 52,
   "id": "102b3cb8-4def-4f69-a373-d2c2715f5e97",
   "metadata": {},
   "outputs": [],
   "source": [
    "def processed_data(brute_data_file_path, reference_date, file_name): \n",
    "\n",
    "    registration_df = process_registration_data_rendim(brute_data_file_path, reference_date)\n",
    "    \n",
    "    processed_path  = \"C:/Users/joaoc/Documents/MT/pagamento_servidores/data/processed/\" + file_name + \".xlsx\"\n",
    "    print(\"Processed data shapes:\")\n",
    "    print(f\"Registration data: {registration_df.shape}\")\n",
    "    \n",
    "    #registration_df.to_excel(processed_path, index=False)\n",
    "    \n",
    "    return registration_df"
   ]
  },
  {
   "attachments": {},
   "cell_type": "markdown",
   "id": "ee0170ce-85a1-4fa3-adbc-8f8890843252",
   "metadata": {
    "editable": true,
    "slideshow": {
     "slide_type": ""
    },
    "tags": []
   },
   "source": [
    "Importação da Base de Dados"
   ]
  },
  {
   "cell_type": "code",
   "execution_count": 55,
   "id": "d6bd02eb-56ad-4ac0-a407-5a3c3ce43ace",
   "metadata": {},
   "outputs": [],
   "source": [
    "reference_date = '2022-04-01'\n",
    "brute_file_path = 'C:/Users/joaoc/Documents/MT/pagamento_servidores/data/raw/servidores_mes.xlsx'"
   ]
  },
  {
   "cell_type": "markdown",
   "id": "e5d0b1b4-f7c2-4420-aec9-84bc30df3e9b",
   "metadata": {},
   "source": [
    "Limpeza e Pre-processamento dos dados para tentar identificar o caso a seguir como um Anomaly Detection\n",
    "![image.png](attachment:1cf54f27-e734-4093-a92f-766002dc7ed0.png)"
   ]
  },
  {
   "cell_type": "code",
   "execution_count": 58,
   "id": "d7dcbdb9-c020-4f6d-9465-84d2455212d9",
   "metadata": {
    "scrolled": true
   },
   "outputs": [
    {
     "name": "stdout",
     "output_type": "stream",
     "text": [
      "Processed data shapes:\n",
      "Registration data: (41660, 4)\n"
     ]
    }
   ],
   "source": [
    "registration_df = processed_data(brute_file_path, reference_date, \"dados_12_meses_cadastro_e_std\")"
   ]
  },
  {
   "cell_type": "markdown",
   "id": "f4f012da-fb0a-4126-ae74-3aaf4c481a50",
   "metadata": {},
   "source": [
    "## Isolation Forest"
   ]
  },
  {
   "cell_type": "code",
   "execution_count": null,
   "id": "cf490214-1f59-49a2-93ae-4103b9859e04",
   "metadata": {},
   "outputs": [],
   "source": [
    "resultados = []\n",
    "for id in registration_df['cpf_servidor'].unique():\n",
    "    # Filtrar dados do funcionário\n",
    "    dados = registration_df[registration_df['cpf_servidor'] == id].sort_values('mes')\n",
    "    \n",
    "    if len(dados) < 12:  # Ignorar funcionários com menos de 12 meses de histórico\n",
    "        continue\n",
    "    \n",
    "    serie = dados.set_index('mes')['rendim']\n",
    "    contamination = 1/len(serie)\n",
    "    \n",
    "    iso_forest = IsolationForest(\n",
    "        contamination = contamination,\n",
    "        random_state = 42\n",
    "    )\n",
    "\n",
    "    x_iso_forest = serie.values.reshape(-1, 1)\n",
    "\n",
    "    iso_forest.fit(x_iso_forest)\n",
    "\n",
    "    anomalias = iso_forest.predict(x_iso_forest)\n",
    "\n",
    "    dados['anomalia'] = anomalias\n",
    "\n",
    "    for index, row in dados.iterrows():\n",
    "        if row['anomalia'] == -1:\n",
    "            resultados.append({\n",
    "                'cpf_servidor': id,  # Supondo que a coluna com o ID se chama 'id'\n",
    "                'mes': row['mes']  # Supondo que a coluna com o mês se chama 'mes'\n",
    "            })\n",
    "        \n"
   ]
  },
  {
   "cell_type": "code",
   "execution_count": null,
   "id": "aef2e8da-5f72-4409-ae23-cabdb17e39a1",
   "metadata": {},
   "outputs": [],
   "source": []
  },
  {
   "cell_type": "code",
   "execution_count": null,
   "id": "6b4b2de7-d5ec-4170-bac5-2f86c736757f",
   "metadata": {},
   "outputs": [],
   "source": []
  },
  {
   "cell_type": "code",
   "execution_count": null,
   "id": "e6ea4ddf-6b2a-430f-be11-c546c238b7db",
   "metadata": {},
   "outputs": [],
   "source": []
  },
  {
   "cell_type": "code",
   "execution_count": null,
   "id": "ec56f542-1aeb-422a-b420-5a3977034964",
   "metadata": {},
   "outputs": [],
   "source": []
  },
  {
   "cell_type": "code",
   "execution_count": null,
   "id": "ab0feefe-fcf1-43ff-9087-121fb2972489",
   "metadata": {},
   "outputs": [],
   "source": []
  }
 ],
 "metadata": {
  "kernelspec": {
   "display_name": "Python 3 (ipykernel)",
   "language": "python",
   "name": "python3"
  },
  "language_info": {
   "codemirror_mode": {
    "name": "ipython",
    "version": 3
   },
   "file_extension": ".py",
   "mimetype": "text/x-python",
   "name": "python",
   "nbconvert_exporter": "python",
   "pygments_lexer": "ipython3",
   "version": "3.12.3"
  }
 },
 "nbformat": 4,
 "nbformat_minor": 5
}
