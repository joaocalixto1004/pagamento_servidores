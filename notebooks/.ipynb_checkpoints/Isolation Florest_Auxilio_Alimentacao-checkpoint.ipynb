{
 "cells": [
  {
   "cell_type": "markdown",
   "id": "e7879772-bb68-4e4f-8d88-71c96c910429",
   "metadata": {},
   "source": [
    "# ISOLATION FOREST FOR ANOMALY DETECTION \n"
   ]
  },
  {
   "cell_type": "markdown",
   "id": "259e102f-1a4d-4664-8114-24b18bef5e74",
   "metadata": {},
   "source": [
    "Algoritmos de Isolation Forest para detecção de Anolamia na Folha de Pagamento - Rubricas de Auxilio Alimentacao\n",
    "Importação do Modulo de Pré-processamento"
   ]
  },
  {
   "cell_type": "code",
   "execution_count": 4,
   "id": "1114e60d-045a-4be3-94c7-4841128f341d",
   "metadata": {
    "editable": true,
    "jp-MarkdownHeadingCollapsed": true,
    "slideshow": {
     "slide_type": ""
    },
    "tags": []
   },
   "outputs": [],
   "source": [
    "import sys\n",
    "sys.path.append(\"C:/Users/joaoc/Documents/MT/pagamento_servidores/src\")\n",
    "import process_servants as ps\n",
    "from sklearn.preprocessing import StandardScaler\n",
    "from sklearn.ensemble import IsolationForest\n",
    "import pandas as pd\n",
    "from janitor import clean_names\n",
    "from datetime import datetime\n",
    "from dateutil.relativedelta import relativedelta"
   ]
  },
  {
   "cell_type": "markdown",
   "id": "e9f6a131-084c-4a12-804f-30d4d4b670ba",
   "metadata": {
    "editable": true,
    "slideshow": {
     "slide_type": ""
    },
    "tags": []
   },
   "source": [
    "## Função para pre-processamento dos dados\n",
    "Utiliza-se funções importadas do arquivo process_servants.py, no qual foram pré-definidas algumas funções para o pré-processamento dos dados"
   ]
  },
  {
   "cell_type": "code",
   "execution_count": 6,
   "id": "1eca48ae-bf3c-4dc7-a625-6733950f24ad",
   "metadata": {
    "editable": true,
    "slideshow": {
     "slide_type": ""
    },
    "tags": []
   },
   "outputs": [],
   "source": [
    "def process_registration_data_rendim(file_path):\n",
    "    \"\"\"Process registration data from Excel file\"\"\"\n",
    "    \n",
    "    df = (\n",
    "        pd.read_excel(file_path)\n",
    "        .pipe(clean_names)\n",
    "        .pipe(ps.convert_rendim_to_numeric)\n",
    "        .pipe(ps.process_month_column)\n",
    "        )    \n",
    "\n",
    "    #Selecionar apesas as colunas necessárias para o modelo\n",
    "    df_rendim = df[['cpf_servidor', 'mes', 'rendim']]\n",
    "    #Se tiver valores com o CPF duplicado para o mesmo mês, somar os valores\n",
    "    df_rendim = df_rendim.groupby(['cpf_servidor', 'mes'])['rendim'].sum().reset_index()\n",
    "\n",
    "    return df_rendim"
   ]
  },
  {
   "cell_type": "markdown",
   "id": "4b22a519-627a-4268-947c-cf812e33c55c",
   "metadata": {},
   "source": [
    "## Função para Leitura dos Dados"
   ]
  },
  {
   "cell_type": "code",
   "execution_count": 8,
   "id": "102b3cb8-4def-4f69-a373-d2c2715f5e97",
   "metadata": {},
   "outputs": [],
   "source": [
    "def processed_data(brute_data_file_path): \n",
    "\n",
    "    registration_df = process_registration_data_rendim(brute_data_file_path)\n",
    "    \n",
    "    return registration_df"
   ]
  },
  {
   "attachments": {},
   "cell_type": "markdown",
   "id": "ee0170ce-85a1-4fa3-adbc-8f8890843252",
   "metadata": {
    "editable": true,
    "slideshow": {
     "slide_type": ""
    },
    "tags": []
   },
   "source": [
    "Importação da Base de Dados"
   ]
  },
  {
   "cell_type": "code",
   "execution_count": 10,
   "id": "d6bd02eb-56ad-4ac0-a407-5a3c3ce43ace",
   "metadata": {},
   "outputs": [],
   "source": [
    "brute_file_path = 'C:/Users/joaoc/Documents/MT/pagamento_servidores/data/raw/servidores_mes_rubricas_alimentacao.xlsx'"
   ]
  },
  {
   "cell_type": "code",
   "execution_count": 12,
   "id": "d7dcbdb9-c020-4f6d-9465-84d2455212d9",
   "metadata": {
    "scrolled": true
   },
   "outputs": [
    {
     "name": "stderr",
     "output_type": "stream",
     "text": [
      "C:\\Users\\joaoc\\anaconda3\\Lib\\site-packages\\openpyxl\\styles\\stylesheet.py:237: UserWarning: Workbook contains no default style, apply openpyxl's default\n",
      "  warn(\"Workbook contains no default style, apply openpyxl's default\")\n"
     ]
    }
   ],
   "source": [
    "df_alimentacao = processed_data(brute_file_path)"
   ]
  },
  {
   "cell_type": "markdown",
   "id": "f4f012da-fb0a-4126-ae74-3aaf4c481a50",
   "metadata": {},
   "source": [
    "## Isolation Forest"
   ]
  },
  {
   "cell_type": "code",
   "execution_count": 14,
   "id": "a2af6964-344c-45b2-8a48-db0664ee6e4f",
   "metadata": {},
   "outputs": [],
   "source": [
    "def isolation_forest_alimentacao(df_alimentacao, select_month):\n",
    "     # Filtrar dados do mês escolhido\n",
    "    df_alimentacao_serie = df_alimentacao[df_alimentacao['mes'] == select_month].copy()\n",
    "    \n",
    "    # Remover a coluna 'mes'\n",
    "    df_alimentacao_serie = df_alimentacao_serie.drop(columns='mes')\n",
    "    \n",
    "    # Definir índice e selecionar coluna\n",
    "    df_alimentacao_serie = df_alimentacao_serie.set_index('cpf_servidor')[['rendim']]\n",
    "\n",
    "    contamination = 0.5\n",
    "\n",
    "    iso_forest = IsolationForest(\n",
    "        contamination = contamination,\n",
    "        random_state = 42\n",
    "    )\n",
    "    \n",
    "    x_iso_forest = df_alimentacao_serie.values\n",
    "    \n",
    "    iso_forest.fit(x_iso_forest)\n",
    "    \n",
    "    anomalias = iso_forest.predict(x_iso_forest)\n",
    "    \n",
    "    df_alimentacao_serie['anomalia'] = anomalias\n",
    "    \n",
    "    return df_alimentacao_serie \n",
    "    "
   ]
  },
  {
   "cell_type": "code",
   "execution_count": 15,
   "id": "559ef161-fd50-459f-9fb9-973f98b9cb70",
   "metadata": {
    "scrolled": true
   },
   "outputs": [
    {
     "name": "stdout",
     "output_type": "stream",
     "text": [
      "2025-03\n",
      "2025-02\n",
      "2025-01\n",
      "2024-12\n",
      "2024-11\n",
      "2024-10\n",
      "2024-09\n",
      "2024-08\n",
      "2024-07\n",
      "2024-06\n",
      "2024-05\n",
      "2024-04\n",
      "2024-03\n",
      "2024-02\n",
      "2024-01\n",
      "2023-12\n",
      "2023-11\n",
      "2023-10\n"
     ]
    }
   ],
   "source": [
    "# Definir o mes para fazer a analise (Y, m, d=1)\n",
    "i = 0\n",
    "start_date = datetime(2025, 3, 1)\n",
    "df_alimentacao_result_def = pd.DataFrame()\n",
    "while i != 18:\n",
    "    selected_date = start_date - relativedelta(months=i)\n",
    "    print(selected_date.strftime('%Y-%m'))  # Format as needed\n",
    "    i += 1\n",
    "    #Run\n",
    "    df_alimentacao_result = isolation_forest_alimentacao(df_alimentacao, selected_date)\n",
    "    df_alimentacao_result = df_alimentacao_result[df_alimentacao_result['anomalia'] == -1]\n",
    "    df_alimentacao_result['mes'] = selected_date\n",
    "    df_alimentacao_result_def = pd.concat(\n",
    "    [df_alimentacao_result_def, df_alimentacao_result], \n",
    "    axis=0  # Stack rows vertically (axis=0)\n",
    "    )\n"
   ]
  },
  {
   "cell_type": "code",
   "execution_count": 16,
   "id": "99bf635f-c784-4459-9806-8cf811f362da",
   "metadata": {},
   "outputs": [],
   "source": [
    "df_alimentacao_result_def = df_alimentacao_result_def[df_alimentacao_result_def['rendim'] != 0]"
   ]
  },
  {
   "cell_type": "code",
   "execution_count": 18,
   "id": "4e0b0339-0fe9-49c5-92ad-286e059211ed",
   "metadata": {},
   "outputs": [],
   "source": [
    "df_alimentacao_result_def.to_excel('C:/Users/joaoc/Documents/MT/pagamento_servidores/data/processed/Alimentacao.xlsx')"
   ]
  },
  {
   "cell_type": "code",
   "execution_count": null,
   "id": "f047ad38-bc23-4774-80f2-1e4c5b0fa127",
   "metadata": {},
   "outputs": [],
   "source": []
  }
 ],
 "metadata": {
  "kernelspec": {
   "display_name": "Python 3 (ipykernel)",
   "language": "python",
   "name": "python3"
  },
  "language_info": {
   "codemirror_mode": {
    "name": "ipython",
    "version": 3
   },
   "file_extension": ".py",
   "mimetype": "text/x-python",
   "name": "python",
   "nbconvert_exporter": "python",
   "pygments_lexer": "ipython3",
   "version": "3.12.3"
  }
 },
 "nbformat": 4,
 "nbformat_minor": 5
}
