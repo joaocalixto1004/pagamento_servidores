{
 "cells": [
  {
   "cell_type": "markdown",
   "id": "e7879772-bb68-4e4f-8d88-71c96c910429",
   "metadata": {},
   "source": [
    "# ISOLATION FOREST FOR ANOMALY DETECTION \n"
   ]
  },
  {
   "cell_type": "markdown",
   "id": "259e102f-1a4d-4664-8114-24b18bef5e74",
   "metadata": {},
   "source": [
    "Algoritmos de Isolation Forest para detecção de Anolamia na Folha de Pagamento\n",
    "Importação do Modulo de Pré-processamento"
   ]
  },
  {
   "cell_type": "code",
   "execution_count": 1,
   "id": "1114e60d-045a-4be3-94c7-4841128f341d",
   "metadata": {
    "editable": true,
    "jp-MarkdownHeadingCollapsed": true,
    "slideshow": {
     "slide_type": ""
    },
    "tags": []
   },
   "outputs": [],
   "source": [
    "import sys\n",
    "sys.path.append(\"C:/Users/joaoc/Documents/MT/pagamento_servidores/src\")\n",
    "import process_servants as ps\n",
    "from sklearn.preprocessing import StandardScaler\n",
    "from sklearn.ensemble import IsolationForest\n",
    "import pandas as pd\n",
    "from janitor import clean_names"
   ]
  },
  {
   "cell_type": "markdown",
   "id": "e9f6a131-084c-4a12-804f-30d4d4b670ba",
   "metadata": {
    "editable": true,
    "slideshow": {
     "slide_type": ""
    },
    "tags": []
   },
   "source": [
    "## Função para pre-processamento dos dados\n",
    "Utiliza-se funções importadas do arquivo process_servants.py, no qual foram pré-definidas algumas funções para o pré-processamento dos dados"
   ]
  },
  {
   "cell_type": "code",
   "execution_count": 3,
   "id": "1eca48ae-bf3c-4dc7-a625-6733950f24ad",
   "metadata": {
    "editable": true,
    "slideshow": {
     "slide_type": ""
    },
    "tags": []
   },
   "outputs": [],
   "source": [
    "def process_registration_data_rendim(file_path, reference_date_str):\n",
    "    \"\"\"Process registration data from Excel file\"\"\"\n",
    "    \n",
    "    df = (\n",
    "        pd.read_excel(file_path)\n",
    "        .pipe(clean_names)\n",
    "        .pipe(ps.convert_rendim_to_numeric)\n",
    "        .pipe(ps.process_month_column)\n",
    "        )    \n",
    "\n",
    "    #Selecionar apesas as colunas necessárias para o modelo\n",
    "    df_rendim = df[['cpf_servidor', 'mes', 'rendim']]\n",
    "    #Se tiver valores com o CPF duplicado para o mesmo mês, somar os valores\n",
    "    df_rendim = df_rendim.groupby(['cpf_servidor', 'mes'])['rendim'].sum().reset_index()\n",
    "\n",
    "    return df_rendim"
   ]
  },
  {
   "cell_type": "markdown",
   "id": "4b22a519-627a-4268-947c-cf812e33c55c",
   "metadata": {},
   "source": [
    "## Função para Leitura dos Dados"
   ]
  },
  {
   "cell_type": "code",
   "execution_count": 5,
   "id": "102b3cb8-4def-4f69-a373-d2c2715f5e97",
   "metadata": {},
   "outputs": [],
   "source": [
    "def processed_data(brute_data_file_path, reference_date, file_name): \n",
    "\n",
    "    registration_df = process_registration_data_rendim(brute_data_file_path, reference_date)\n",
    "    \n",
    "    processed_path  = \"C:/Users/joaoc/Documents/MT/pagamento_servidores/data/processed/\" + file_name + \".xlsx\"\n",
    "    print(\"Processed data shapes:\")\n",
    "    print(f\"Registration data: {registration_df.shape}\")\n",
    "    \n",
    "    #registration_df.to_excel(processed_path, index=False)\n",
    "    \n",
    "    return registration_df"
   ]
  },
  {
   "attachments": {},
   "cell_type": "markdown",
   "id": "ee0170ce-85a1-4fa3-adbc-8f8890843252",
   "metadata": {
    "editable": true,
    "slideshow": {
     "slide_type": ""
    },
    "tags": []
   },
   "source": [
    "Importação da Base de Dados"
   ]
  },
  {
   "cell_type": "code",
   "execution_count": 10,
   "id": "d6bd02eb-56ad-4ac0-a407-5a3c3ce43ace",
   "metadata": {},
   "outputs": [],
   "source": [
    "reference_date = '2022-04-01'\n",
    "brute_file_path = 'C:/Users/joaoc/Documents/MT/pagamento_servidores/data/raw/servidores_mes_rubricas_alimentacao.xlsx'"
   ]
  },
  {
   "cell_type": "markdown",
   "id": "e5d0b1b4-f7c2-4420-aec9-84bc30df3e9b",
   "metadata": {},
   "source": [
    "Limpeza e Pre-processamento dos dados para tentar identificar o caso a seguir como um Anomaly Detection\n",
    "![image.png](attachment:1cf54f27-e734-4093-a92f-766002dc7ed0.png)"
   ]
  },
  {
   "cell_type": "code",
   "execution_count": 32,
   "id": "d7dcbdb9-c020-4f6d-9465-84d2455212d9",
   "metadata": {
    "scrolled": true
   },
   "outputs": [
    {
     "name": "stderr",
     "output_type": "stream",
     "text": [
      "C:\\Users\\joaoc\\anaconda3\\Lib\\site-packages\\openpyxl\\styles\\stylesheet.py:237: UserWarning: Workbook contains no default style, apply openpyxl's default\n",
      "  warn(\"Workbook contains no default style, apply openpyxl's default\")\n"
     ]
    },
    {
     "name": "stdout",
     "output_type": "stream",
     "text": [
      "Processed data shapes:\n",
      "Registration data: (109799, 3)\n"
     ]
    }
   ],
   "source": [
    "df_alimentacao = processed_data(brute_file_path, reference_date, \"dados_12_meses_cadastro_e_std\")"
   ]
  },
  {
   "cell_type": "markdown",
   "id": "f4f012da-fb0a-4126-ae74-3aaf4c481a50",
   "metadata": {},
   "source": [
    "## Isolation Forest"
   ]
  },
  {
   "cell_type": "code",
   "execution_count": 35,
   "id": "559ef161-fd50-459f-9fb9-973f98b9cb70",
   "metadata": {},
   "outputs": [],
   "source": [
    "df_alimentacao_serie = df_alimentacao.set_index(['cpf_servidor', 'mes'])[['rendim']]"
   ]
  },
  {
   "cell_type": "code",
   "execution_count": 55,
   "id": "cf490214-1f59-49a2-93ae-4103b9859e04",
   "metadata": {},
   "outputs": [],
   "source": [
    "contamination = 0.5\n",
    "\n",
    "iso_forest = IsolationForest(\n",
    "    contamination = contamination,\n",
    "    random_state = 42\n",
    ")\n",
    "\n",
    "x_iso_forest = df_alimentacao_serie.values\n",
    "\n",
    "iso_forest.fit(x_iso_forest)\n",
    "\n",
    "anomalias = iso_forest.predict(x_iso_forest)\n",
    "\n",
    "df_alimentacao['anomalia'] = anomalias\n",
    "\n"
   ]
  },
  {
   "cell_type": "code",
   "execution_count": 57,
   "id": "aef2e8da-5f72-4409-ae23-cabdb17e39a1",
   "metadata": {},
   "outputs": [
    {
     "data": {
      "text/html": [
       "<div>\n",
       "<style scoped>\n",
       "    .dataframe tbody tr th:only-of-type {\n",
       "        vertical-align: middle;\n",
       "    }\n",
       "\n",
       "    .dataframe tbody tr th {\n",
       "        vertical-align: top;\n",
       "    }\n",
       "\n",
       "    .dataframe thead th {\n",
       "        text-align: right;\n",
       "    }\n",
       "</style>\n",
       "<table border=\"1\" class=\"dataframe\">\n",
       "  <thead>\n",
       "    <tr style=\"text-align: right;\">\n",
       "      <th></th>\n",
       "      <th>cpf_servidor</th>\n",
       "      <th>mes</th>\n",
       "      <th>rendim</th>\n",
       "      <th>anomalia</th>\n",
       "    </tr>\n",
       "  </thead>\n",
       "  <tbody>\n",
       "    <tr>\n",
       "      <th>0</th>\n",
       "      <td>3183106</td>\n",
       "      <td>2013-03-01</td>\n",
       "      <td>429.0</td>\n",
       "      <td>-1</td>\n",
       "    </tr>\n",
       "    <tr>\n",
       "      <th>1</th>\n",
       "      <td>3183106</td>\n",
       "      <td>2013-04-01</td>\n",
       "      <td>429.0</td>\n",
       "      <td>-1</td>\n",
       "    </tr>\n",
       "    <tr>\n",
       "      <th>2</th>\n",
       "      <td>3183106</td>\n",
       "      <td>2013-05-01</td>\n",
       "      <td>429.0</td>\n",
       "      <td>-1</td>\n",
       "    </tr>\n",
       "    <tr>\n",
       "      <th>3</th>\n",
       "      <td>3183106</td>\n",
       "      <td>2013-06-01</td>\n",
       "      <td>429.0</td>\n",
       "      <td>-1</td>\n",
       "    </tr>\n",
       "    <tr>\n",
       "      <th>4</th>\n",
       "      <td>3183106</td>\n",
       "      <td>2013-07-01</td>\n",
       "      <td>429.0</td>\n",
       "      <td>-1</td>\n",
       "    </tr>\n",
       "    <tr>\n",
       "      <th>...</th>\n",
       "      <td>...</td>\n",
       "      <td>...</td>\n",
       "      <td>...</td>\n",
       "      <td>...</td>\n",
       "    </tr>\n",
       "    <tr>\n",
       "      <th>109794</th>\n",
       "      <td>99897628134</td>\n",
       "      <td>2016-11-01</td>\n",
       "      <td>471.9</td>\n",
       "      <td>-1</td>\n",
       "    </tr>\n",
       "    <tr>\n",
       "      <th>109795</th>\n",
       "      <td>99897628134</td>\n",
       "      <td>2016-12-01</td>\n",
       "      <td>471.9</td>\n",
       "      <td>-1</td>\n",
       "    </tr>\n",
       "    <tr>\n",
       "      <th>109796</th>\n",
       "      <td>99897628134</td>\n",
       "      <td>2017-01-01</td>\n",
       "      <td>1642.5</td>\n",
       "      <td>-1</td>\n",
       "    </tr>\n",
       "    <tr>\n",
       "      <th>109797</th>\n",
       "      <td>99897628134</td>\n",
       "      <td>2017-02-01</td>\n",
       "      <td>667.0</td>\n",
       "      <td>-1</td>\n",
       "    </tr>\n",
       "    <tr>\n",
       "      <th>109798</th>\n",
       "      <td>99897628134</td>\n",
       "      <td>2017-03-01</td>\n",
       "      <td>667.0</td>\n",
       "      <td>-1</td>\n",
       "    </tr>\n",
       "  </tbody>\n",
       "</table>\n",
       "<p>38838 rows × 4 columns</p>\n",
       "</div>"
      ],
      "text/plain": [
       "        cpf_servidor        mes  rendim  anomalia\n",
       "0            3183106 2013-03-01   429.0        -1\n",
       "1            3183106 2013-04-01   429.0        -1\n",
       "2            3183106 2013-05-01   429.0        -1\n",
       "3            3183106 2013-06-01   429.0        -1\n",
       "4            3183106 2013-07-01   429.0        -1\n",
       "...              ...        ...     ...       ...\n",
       "109794   99897628134 2016-11-01   471.9        -1\n",
       "109795   99897628134 2016-12-01   471.9        -1\n",
       "109796   99897628134 2017-01-01  1642.5        -1\n",
       "109797   99897628134 2017-02-01   667.0        -1\n",
       "109798   99897628134 2017-03-01   667.0        -1\n",
       "\n",
       "[38838 rows x 4 columns]"
      ]
     },
     "execution_count": 57,
     "metadata": {},
     "output_type": "execute_result"
    }
   ],
   "source": [
    "df_alimentacao[df_alimentacao['anomalia']== -1]"
   ]
  },
  {
   "cell_type": "code",
   "execution_count": null,
   "id": "6b4b2de7-d5ec-4170-bac5-2f86c736757f",
   "metadata": {},
   "outputs": [],
   "source": []
  },
  {
   "cell_type": "code",
   "execution_count": null,
   "id": "e6ea4ddf-6b2a-430f-be11-c546c238b7db",
   "metadata": {},
   "outputs": [],
   "source": []
  },
  {
   "cell_type": "code",
   "execution_count": null,
   "id": "ec56f542-1aeb-422a-b420-5a3977034964",
   "metadata": {},
   "outputs": [],
   "source": []
  },
  {
   "cell_type": "code",
   "execution_count": null,
   "id": "ab0feefe-fcf1-43ff-9087-121fb2972489",
   "metadata": {},
   "outputs": [],
   "source": []
  }
 ],
 "metadata": {
  "kernelspec": {
   "display_name": "Python 3 (ipykernel)",
   "language": "python",
   "name": "python3"
  },
  "language_info": {
   "codemirror_mode": {
    "name": "ipython",
    "version": 3
   },
   "file_extension": ".py",
   "mimetype": "text/x-python",
   "name": "python",
   "nbconvert_exporter": "python",
   "pygments_lexer": "ipython3",
   "version": "3.12.3"
  }
 },
 "nbformat": 4,
 "nbformat_minor": 5
}
